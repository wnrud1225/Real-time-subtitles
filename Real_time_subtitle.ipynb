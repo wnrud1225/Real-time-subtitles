{
  "nbformat": 4,
  "nbformat_minor": 0,
  "metadata": {
    "colab": {
      "provenance": [],
      "authorship_tag": "ABX9TyOv77Gfo5byB1BZN1B0NjHt",
      "include_colab_link": true
    },
    "kernelspec": {
      "name": "python3",
      "display_name": "Python 3"
    },
    "language_info": {
      "name": "python"
    }
  },
  "cells": [
    {
      "cell_type": "markdown",
      "metadata": {
        "id": "view-in-github",
        "colab_type": "text"
      },
      "source": [
        "<a href=\"https://colab.research.google.com/github/wnrud1225/Real-time-subtitles/blob/main/Real_time_subtitle.ipynb\" target=\"_parent\"><img src=\"https://colab.research.google.com/assets/colab-badge.svg\" alt=\"Open In Colab\"/></a>"
      ]
    },
    {
      "cell_type": "code",
      "execution_count": null,
      "metadata": {
        "id": "3Xm39FJnyYtR"
      },
      "outputs": [],
      "source": [
        "import numpy as np\n",
        "import cv2\n",
        "from mss import mss\n",
        "from PIL import Image\n",
        "from pynput.mouse import Button, Controller as MouseController\n",
        "from pytesseract import *\n",
        "from googletrans import Translator\n",
        "import pyautogui\n",
        "import keyboard\n",
        "import time\n",
        "a=[]\n",
        "n=0\n",
        "def ml():\n",
        "    global n\n",
        "    if keyboard.read_key() == \"s\":\n",
        "        print (\"Current position: \" + str(MouseController().position))\n",
        "        a.append(MouseController().position)\n",
        "        n+=1\n",
        "        time.sleep(3)\n",
        "    if keyboard.read_key() == \"e\":\n",
        "        print (\"Current position: \" + str(MouseController().position))\n",
        "        a.append(MouseController().position)\n",
        "        n+=1\n",
        "\n",
        "    if n== 2:\n",
        "        top = a[0][1]\n",
        "        left = a[0][0]\n",
        "        width = abs(a[1][0] - a[0][0])\n",
        "        height = abs(a[0][1] - a[1][1])\n",
        "        return [top, left, width, height]\n",
        "\n",
        "def trans(en_txt):\n",
        "    translator = Translator()\n",
        "    result = translator.translate(en_txt, dest='ko').text\n",
        "    return result\n",
        "\n",
        "def main():\n",
        "    b=ml()\n",
        "    bounding_box = {'top': b[0], 'left': b[1], 'width': b[2], 'height': b[3]}\n",
        "    sct = mss()\n",
        "\n",
        "    translate = []\n",
        "    while True:\n",
        "        \n",
        "        sct_img = sct.grab(bounding_box)\n",
        "        cv2.imshow('screen', np.array(sct_img))\n",
        "        img = Image.fromarray(np.array(sct_img))\n",
        "        txt = pytesseract.image_to_string(img, lang='eng')\n",
        "        if len(translate) == 0:\n",
        "            translate.append(txt)\n",
        "            print(trans(txt))\n",
        "        elif translate[len(translate)-1] != txt and len(txt)!= 0:\n",
        "            translate.append(txt)\n",
        "            print(trans(txt))\n",
        "        if (cv2.waitKey(1) & 0xFF) == ord('q'):\n",
        "            cv2.destroyAllWindows()\n",
        "            break\n",
        "\n",
        "if __name__ == '__main__':\n",
        "    main()\n"
      ]
    }
  ]
}